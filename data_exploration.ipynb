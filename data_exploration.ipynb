{
 "cells": [
  {
   "attachments": {},
   "cell_type": "markdown",
   "metadata": {},
   "source": [
    "# Imports"
   ]
  },
  {
   "cell_type": "code",
   "execution_count": 45,
   "metadata": {},
   "outputs": [],
   "source": [
    "import pandas as pd\n",
    "import numpy as np\n",
    "import matplotlib.pyplot as plt\n",
    "import tqdm"
   ]
  },
  {
   "attachments": {},
   "cell_type": "markdown",
   "metadata": {},
   "source": [
    "# First program"
   ]
  },
  {
   "cell_type": "code",
   "execution_count": null,
   "metadata": {},
   "outputs": [],
   "source": []
  },
  {
   "attachments": {},
   "cell_type": "markdown",
   "metadata": {},
   "source": [
    "## Parsing files"
   ]
  },
  {
   "cell_type": "code",
   "execution_count": 46,
   "metadata": {},
   "outputs": [],
   "source": []
  },
  {
   "cell_type": "code",
   "execution_count": 48,
   "metadata": {},
   "outputs": [
    {
     "name": "stderr",
     "output_type": "stream",
     "text": [
      "Read file: 20871it [00:00, 1627124.88it/s]\n"
     ]
    }
   ],
   "source": [
    "bbs = {}\n",
    "\n",
    "#Reading basic block data\n",
    "with open(\"temp/breaker_code.txt\") as fIn:\n",
    "    for line in tqdm.tqdm(fIn, desc='Read file'):\n",
    "        #line start with \"@\" symbols the begging of a new basic block\n",
    "        if line[0] == \"@\":\n",
    "            bb_name = line.split()[-1].rstrip(\":\")\n",
    "            bbs[bb_name] = []\n",
    "        else:\n",
    "            bbs[bb_name].append(line.split(\"=\")[0].rstrip())"
   ]
  },
  {
   "cell_type": "code",
   "execution_count": 49,
   "metadata": {},
   "outputs": [
    {
     "name": "stderr",
     "output_type": "stream",
     "text": [
      "Read file: 2957it [00:00, 978659.90it/s]\n"
     ]
    }
   ],
   "source": [
    "bbs_energy = {}\n",
    "\n",
    "#Reading basic block data\n",
    "with open(\"bin_to_dec_results/breaker_final_energy.txt\") as fIn:\n",
    "    for line in tqdm.tqdm(fIn, desc='Read file'):\n",
    "        #line start with \"@\" symbols the begging of a new basic block\n",
    "        line = line.split(\":\")\n",
    "        bb_name = line[0].split()[-1]\n",
    "        bbs_energy[bb_name] = float(line[-1].strip())"
   ]
  },
  {
   "cell_type": "code",
   "execution_count": 50,
   "metadata": {},
   "outputs": [
    {
     "name": "stdout",
     "output_type": "stream",
     "text": [
      "Number of basic blocks with energies for program: 2957\n"
     ]
    }
   ],
   "source": [
    "bbs_df = pd.DataFrame({\"bb_name\": bbs.keys(), \"bb\": bbs.values()})\n",
    "bbs_energy_df = pd.DataFrame({\"bb_name\": bbs_energy.keys(), \"energy\": bbs_energy.values()})\n",
    "\n",
    "df = bbs_df.merge(bbs_energy_df, on=\"bb_name\", how=\"inner\")\n",
    "print(f\"Number of basic blocks with energies for program: {len(df)}\")"
   ]
  },
  {
   "attachments": {},
   "cell_type": "markdown",
   "metadata": {},
   "source": [
    "## Analysis"
   ]
  },
  {
   "cell_type": "code",
   "execution_count": 14,
   "metadata": {},
   "outputs": [
    {
     "data": {
      "image/png": "[encoded data removed]",
      "text/plain": [
       "<Figure size 1000x500 with 1 Axes>"
      ]
     },
     "metadata": {},
     "output_type": "display_data"
    }
   ],
   "source": [
    "x_ticks = np.arange(df.energy.min(), df.energy.max(), 20)\n",
    "\n",
    "plt.figure(figsize=(10, 5))\n",
    "plt.hist(df.energy, bins=100)\n",
    "plt.title(\"Basic blocks' energy distribution\")\n",
    "plt.xlabel(\"Energy\")\n",
    "plt.xticks(x_ticks)\n",
    "plt.show()"
   ]
  },
  {
   "attachments": {},
   "cell_type": "markdown",
   "metadata": {},
   "source": [
    "We have one outlier which we throw away"
   ]
  },
  {
   "cell_type": "code",
   "execution_count": 19,
   "metadata": {},
   "outputs": [
    {
     "data": {
      "text/html": [
       "<div>\n",
       "<style scoped>\n",
       "    .dataframe tbody tr th:only-of-type {\n",
       "        vertical-align: middle;\n",
       "    }\n",
       "\n",
       "    .dataframe tbody tr th {\n",
       "        vertical-align: top;\n",
       "    }\n",
       "\n",
       "    .dataframe thead th {\n",
       "        text-align: right;\n",
       "    }\n",
       "</style>\n",
       "<table border=\"1\" class=\"dataframe\">\n",
       "  <thead>\n",
       "    <tr style=\"text-align: right;\">\n",
       "      <th></th>\n",
       "      <th>bb</th>\n",
       "      <th>energy</th>\n",
       "    </tr>\n",
       "  </thead>\n",
       "  <tbody>\n",
       "    <tr>\n",
       "      <th>0</th>\n",
       "      <td>(add $0x18, %rsp, mov %r13, %rax, popq  %rbx, ...</td>\n",
       "      <td>[0.35243471772842716, 0.4812207255609908, 0.0,...</td>\n",
       "    </tr>\n",
       "    <tr>\n",
       "      <th>1</th>\n",
       "      <td>(add $0x18, %rsp, retq)</td>\n",
       "      <td>[0.01888333437389588, 0.1336714974321676, 0.13...</td>\n",
       "    </tr>\n",
       "    <tr>\n",
       "      <th>2</th>\n",
       "      <td>(add $0x1d0, %rsp, popq  %rbp, popq  %r12, pop...</td>\n",
       "      <td>[0.21537422452452065, 1.8454019891077442, 0.41...</td>\n",
       "    </tr>\n",
       "    <tr>\n",
       "      <th>3</th>\n",
       "      <td>(add $0x38, %rsp, mov %r12d, %eax, popq  %rbx,...</td>\n",
       "      <td>[0.0]</td>\n",
       "    </tr>\n",
       "    <tr>\n",
       "      <th>4</th>\n",
       "      <td>(add $0x38, %rsp, mov %r14d, %eax, popq  %rbx,...</td>\n",
       "      <td>[0.0]</td>\n",
       "    </tr>\n",
       "    <tr>\n",
       "      <th>...</th>\n",
       "      <td>...</td>\n",
       "      <td>...</td>\n",
       "    </tr>\n",
       "    <tr>\n",
       "      <th>474</th>\n",
       "      <td>(xor %ecx, %ecx, movl  -0x510(%rbp), %edx, cmp...</td>\n",
       "      <td>[1.3153388730701665, 0.0, 0.0, 0.0]</td>\n",
       "    </tr>\n",
       "    <tr>\n",
       "      <th>475</th>\n",
       "      <td>(xor %edx, %edx, xor %esi, %esi, mov %rbx, %rd...</td>\n",
       "      <td>[0.0]</td>\n",
       "    </tr>\n",
       "    <tr>\n",
       "      <th>476</th>\n",
       "      <td>(xor %esi, %esi, mov %r13, %rdi, callq  0xffff...</td>\n",
       "      <td>[0.6657063170368209, 5.703963342277551, 1.2881...</td>\n",
       "    </tr>\n",
       "    <tr>\n",
       "      <th>477</th>\n",
       "      <td>(xor %r12d, %r12d, nop, movl  %fs:0x18, %eax, ...</td>\n",
       "      <td>[0.0]</td>\n",
       "    </tr>\n",
       "    <tr>\n",
       "      <th>478</th>\n",
       "      <td>(xor %r15d, %r15d, jmp 0xffffffffffffff00)</td>\n",
       "      <td>[0.2406103627804954, 0.2406103627804954, 0.0, ...</td>\n",
       "    </tr>\n",
       "  </tbody>\n",
       "</table>\n",
       "<p>479 rows × 2 columns</p>\n",
       "</div>"
      ],
      "text/plain": [
       "                                                    bb  \\\n",
       "0    (add $0x18, %rsp, mov %r13, %rax, popq  %rbx, ...   \n",
       "1                              (add $0x18, %rsp, retq)   \n",
       "2    (add $0x1d0, %rsp, popq  %rbp, popq  %r12, pop...   \n",
       "3    (add $0x38, %rsp, mov %r12d, %eax, popq  %rbx,...   \n",
       "4    (add $0x38, %rsp, mov %r14d, %eax, popq  %rbx,...   \n",
       "..                                                 ...   \n",
       "474  (xor %ecx, %ecx, movl  -0x510(%rbp), %edx, cmp...   \n",
       "475  (xor %edx, %edx, xor %esi, %esi, mov %rbx, %rd...   \n",
       "476  (xor %esi, %esi, mov %r13, %rdi, callq  0xffff...   \n",
       "477  (xor %r12d, %r12d, nop, movl  %fs:0x18, %eax, ...   \n",
       "478         (xor %r15d, %r15d, jmp 0xffffffffffffff00)   \n",
       "\n",
       "                                                energy  \n",
       "0    [0.35243471772842716, 0.4812207255609908, 0.0,...  \n",
       "1    [0.01888333437389588, 0.1336714974321676, 0.13...  \n",
       "2    [0.21537422452452065, 1.8454019891077442, 0.41...  \n",
       "3                                                [0.0]  \n",
       "4                                                [0.0]  \n",
       "..                                                 ...  \n",
       "474                [1.3153388730701665, 0.0, 0.0, 0.0]  \n",
       "475                                              [0.0]  \n",
       "476  [0.6657063170368209, 5.703963342277551, 1.2881...  \n",
       "477                                              [0.0]  \n",
       "478  [0.2406103627804954, 0.2406103627804954, 0.0, ...  \n",
       "\n",
       "[479 rows x 2 columns]"
      ]
     },
     "execution_count": 19,
     "metadata": {},
     "output_type": "execute_result"
    }
   ],
   "source": [
    "grouped_df = df.groupby(df[\"bb\"].map(tuple))[\"energy\"].apply(list).reset_index()\n",
    "grouped_df"
   ]
  },
  {
   "cell_type": "code",
   "execution_count": 42,
   "metadata": {},
   "outputs": [
    {
     "data": {
      "text/html": [
       "<div>\n",
       "<style scoped>\n",
       "    .dataframe tbody tr th:only-of-type {\n",
       "        vertical-align: middle;\n",
       "    }\n",
       "\n",
       "    .dataframe tbody tr th {\n",
       "        vertical-align: top;\n",
       "    }\n",
       "\n",
       "    .dataframe thead th {\n",
       "        text-align: right;\n",
       "    }\n",
       "</style>\n",
       "<table border=\"1\" class=\"dataframe\">\n",
       "  <thead>\n",
       "    <tr style=\"text-align: right;\">\n",
       "      <th></th>\n",
       "      <th>BB</th>\n",
       "      <th>average_energy</th>\n",
       "      <th>occurences</th>\n",
       "    </tr>\n",
       "  </thead>\n",
       "  <tbody>\n",
       "    <tr>\n",
       "      <th>0</th>\n",
       "      <td>(add $0x18, %rsp, mov %r13, %rax, popq  %rbx, ...</td>\n",
       "      <td>0.166731</td>\n",
       "      <td>5.0</td>\n",
       "    </tr>\n",
       "    <tr>\n",
       "      <th>1</th>\n",
       "      <td>(add $0x18, %rsp, retq)</td>\n",
       "      <td>0.033847</td>\n",
       "      <td>44.0</td>\n",
       "    </tr>\n",
       "    <tr>\n",
       "      <th>2</th>\n",
       "      <td>(add $0x1d0, %rsp, popq  %rbp, popq  %r12, pop...</td>\n",
       "      <td>0.723571</td>\n",
       "      <td>4.0</td>\n",
       "    </tr>\n",
       "    <tr>\n",
       "      <th>3</th>\n",
       "      <td>(add $0x38, %rsp, mov %r12d, %eax, popq  %rbx,...</td>\n",
       "      <td>0.000000</td>\n",
       "      <td>1.0</td>\n",
       "    </tr>\n",
       "    <tr>\n",
       "      <th>4</th>\n",
       "      <td>(add $0x38, %rsp, mov %r14d, %eax, popq  %rbx,...</td>\n",
       "      <td>0.000000</td>\n",
       "      <td>1.0</td>\n",
       "    </tr>\n",
       "    <tr>\n",
       "      <th>...</th>\n",
       "      <td>...</td>\n",
       "      <td>...</td>\n",
       "      <td>...</td>\n",
       "    </tr>\n",
       "    <tr>\n",
       "      <th>474</th>\n",
       "      <td>(xor %ecx, %ecx, movl  -0x510(%rbp), %edx, cmp...</td>\n",
       "      <td>0.328835</td>\n",
       "      <td>4.0</td>\n",
       "    </tr>\n",
       "    <tr>\n",
       "      <th>475</th>\n",
       "      <td>(xor %edx, %edx, xor %esi, %esi, mov %rbx, %rd...</td>\n",
       "      <td>0.000000</td>\n",
       "      <td>1.0</td>\n",
       "    </tr>\n",
       "    <tr>\n",
       "      <th>476</th>\n",
       "      <td>(xor %esi, %esi, mov %r13, %rdi, callq  0xffff...</td>\n",
       "      <td>2.236491</td>\n",
       "      <td>4.0</td>\n",
       "    </tr>\n",
       "    <tr>\n",
       "      <th>477</th>\n",
       "      <td>(xor %r12d, %r12d, nop, movl  %fs:0x18, %eax, ...</td>\n",
       "      <td>0.000000</td>\n",
       "      <td>1.0</td>\n",
       "    </tr>\n",
       "    <tr>\n",
       "      <th>478</th>\n",
       "      <td>(xor %r15d, %r15d, jmp 0xffffffffffffff00)</td>\n",
       "      <td>0.060153</td>\n",
       "      <td>8.0</td>\n",
       "    </tr>\n",
       "  </tbody>\n",
       "</table>\n",
       "<p>479 rows × 3 columns</p>\n",
       "</div>"
      ],
      "text/plain": [
       "                                                    BB  average_energy  \\\n",
       "0    (add $0x18, %rsp, mov %r13, %rax, popq  %rbx, ...        0.166731   \n",
       "1                              (add $0x18, %rsp, retq)        0.033847   \n",
       "2    (add $0x1d0, %rsp, popq  %rbp, popq  %r12, pop...        0.723571   \n",
       "3    (add $0x38, %rsp, mov %r12d, %eax, popq  %rbx,...        0.000000   \n",
       "4    (add $0x38, %rsp, mov %r14d, %eax, popq  %rbx,...        0.000000   \n",
       "..                                                 ...             ...   \n",
       "474  (xor %ecx, %ecx, movl  -0x510(%rbp), %edx, cmp...        0.328835   \n",
       "475  (xor %edx, %edx, xor %esi, %esi, mov %rbx, %rd...        0.000000   \n",
       "476  (xor %esi, %esi, mov %r13, %rdi, callq  0xffff...        2.236491   \n",
       "477  (xor %r12d, %r12d, nop, movl  %fs:0x18, %eax, ...        0.000000   \n",
       "478         (xor %r15d, %r15d, jmp 0xffffffffffffff00)        0.060153   \n",
       "\n",
       "     occurences  \n",
       "0           5.0  \n",
       "1          44.0  \n",
       "2           4.0  \n",
       "3           1.0  \n",
       "4           1.0  \n",
       "..          ...  \n",
       "474         4.0  \n",
       "475         1.0  \n",
       "476         4.0  \n",
       "477         1.0  \n",
       "478         8.0  \n",
       "\n",
       "[479 rows x 3 columns]"
      ]
     },
     "execution_count": 42,
     "metadata": {},
     "output_type": "execute_result"
    }
   ],
   "source": [
    "from numpy import mean\n",
    "data = {'BB': [],\n",
    "        'average_energy': [],\n",
    "        'occurences':[]\n",
    "        }\n",
    " \n",
    "# Create DataFrame\n",
    "\n",
    "averaged_energies = pd.DataFrame(data)\n",
    "for index, row in grouped_df.iterrows():\n",
    "        new_df = pd.DataFrame({'BB':[row['bb']],'average_energy':mean(row['energy']),'occurences':len(row['energy'])})\n",
    "        averaged_energies= pd.concat([averaged_energies, new_df], axis=0, ignore_index=True)\n",
    "averaged_energies"
   ]
  },
  {
   "cell_type": "code",
   "execution_count": 54,
   "metadata": {},
   "outputs": [
    {
     "data": {
      "text/html": [
       "<div>\n",
       "<style scoped>\n",
       "    .dataframe tbody tr th:only-of-type {\n",
       "        vertical-align: middle;\n",
       "    }\n",
       "\n",
       "    .dataframe tbody tr th {\n",
       "        vertical-align: top;\n",
       "    }\n",
       "\n",
       "    .dataframe thead th {\n",
       "        text-align: right;\n",
       "    }\n",
       "</style>\n",
       "<table border=\"1\" class=\"dataframe\">\n",
       "  <thead>\n",
       "    <tr style=\"text-align: right;\">\n",
       "      <th></th>\n",
       "      <th>index</th>\n",
       "      <th>BB</th>\n",
       "      <th>average_energy</th>\n",
       "      <th>occurences</th>\n",
       "    </tr>\n",
       "  </thead>\n",
       "  <tbody>\n",
       "    <tr>\n",
       "      <th>0</th>\n",
       "      <td>0</td>\n",
       "      <td>(add $0x18, %rsp, mov %r13, %rax, popq  %rbx, ...</td>\n",
       "      <td>0.166731</td>\n",
       "      <td>5.0</td>\n",
       "    </tr>\n",
       "    <tr>\n",
       "      <th>1</th>\n",
       "      <td>1</td>\n",
       "      <td>(add $0x18, %rsp, retq)</td>\n",
       "      <td>0.033847</td>\n",
       "      <td>44.0</td>\n",
       "    </tr>\n",
       "    <tr>\n",
       "      <th>2</th>\n",
       "      <td>2</td>\n",
       "      <td>(add $0x1d0, %rsp, popq  %rbp, popq  %r12, pop...</td>\n",
       "      <td>0.723571</td>\n",
       "      <td>4.0</td>\n",
       "    </tr>\n",
       "    <tr>\n",
       "      <th>3</th>\n",
       "      <td>6</td>\n",
       "      <td>(add $0x8, %rsp, mov %r13, %rax, popq  %rbx, p...</td>\n",
       "      <td>0.352435</td>\n",
       "      <td>1.0</td>\n",
       "    </tr>\n",
       "    <tr>\n",
       "      <th>4</th>\n",
       "      <td>8</td>\n",
       "      <td>(add $0x8, %rsp, popq  %rbx, popq  %rbp, popq ...</td>\n",
       "      <td>0.086887</td>\n",
       "      <td>4.0</td>\n",
       "    </tr>\n",
       "    <tr>\n",
       "      <th>...</th>\n",
       "      <td>...</td>\n",
       "      <td>...</td>\n",
       "      <td>...</td>\n",
       "      <td>...</td>\n",
       "    </tr>\n",
       "    <tr>\n",
       "      <th>367</th>\n",
       "      <td>472</td>\n",
       "      <td>(xor %eax, %eax, pxor %xmm0, %xmm0, movq  $0x0...</td>\n",
       "      <td>2.060203</td>\n",
       "      <td>4.0</td>\n",
       "    </tr>\n",
       "    <tr>\n",
       "      <th>368</th>\n",
       "      <td>473</td>\n",
       "      <td>(xor %ebx, %ebx, jmp 0xffffffffffffdf2e)</td>\n",
       "      <td>0.060153</td>\n",
       "      <td>4.0</td>\n",
       "    </tr>\n",
       "    <tr>\n",
       "      <th>369</th>\n",
       "      <td>474</td>\n",
       "      <td>(xor %ecx, %ecx, movl  -0x510(%rbp), %edx, cmp...</td>\n",
       "      <td>0.328835</td>\n",
       "      <td>4.0</td>\n",
       "    </tr>\n",
       "    <tr>\n",
       "      <th>370</th>\n",
       "      <td>476</td>\n",
       "      <td>(xor %esi, %esi, mov %r13, %rdi, callq  0xffff...</td>\n",
       "      <td>2.236491</td>\n",
       "      <td>4.0</td>\n",
       "    </tr>\n",
       "    <tr>\n",
       "      <th>371</th>\n",
       "      <td>478</td>\n",
       "      <td>(xor %r15d, %r15d, jmp 0xffffffffffffff00)</td>\n",
       "      <td>0.060153</td>\n",
       "      <td>8.0</td>\n",
       "    </tr>\n",
       "  </tbody>\n",
       "</table>\n",
       "<p>372 rows × 4 columns</p>\n",
       "</div>"
      ],
      "text/plain": [
       "     index                                                 BB  average_energy  \\\n",
       "0        0  (add $0x18, %rsp, mov %r13, %rax, popq  %rbx, ...        0.166731   \n",
       "1        1                            (add $0x18, %rsp, retq)        0.033847   \n",
       "2        2  (add $0x1d0, %rsp, popq  %rbp, popq  %r12, pop...        0.723571   \n",
       "3        6  (add $0x8, %rsp, mov %r13, %rax, popq  %rbx, p...        0.352435   \n",
       "4        8  (add $0x8, %rsp, popq  %rbx, popq  %rbp, popq ...        0.086887   \n",
       "..     ...                                                ...             ...   \n",
       "367    472  (xor %eax, %eax, pxor %xmm0, %xmm0, movq  $0x0...        2.060203   \n",
       "368    473           (xor %ebx, %ebx, jmp 0xffffffffffffdf2e)        0.060153   \n",
       "369    474  (xor %ecx, %ecx, movl  -0x510(%rbp), %edx, cmp...        0.328835   \n",
       "370    476  (xor %esi, %esi, mov %r13, %rdi, callq  0xffff...        2.236491   \n",
       "371    478         (xor %r15d, %r15d, jmp 0xffffffffffffff00)        0.060153   \n",
       "\n",
       "     occurences  \n",
       "0           5.0  \n",
       "1          44.0  \n",
       "2           4.0  \n",
       "3           1.0  \n",
       "4           4.0  \n",
       "..          ...  \n",
       "367         4.0  \n",
       "368         4.0  \n",
       "369         4.0  \n",
       "370         4.0  \n",
       "371         8.0  \n",
       "\n",
       "[372 rows x 4 columns]"
      ]
     },
     "execution_count": 54,
     "metadata": {},
     "output_type": "execute_result"
    }
   ],
   "source": [
    "clean_energies =averaged_energies[averaged_energies['average_energy']>0].reset_index()\n",
    "clean_energies"
   ]
  },
  {
   "cell_type": "code",
   "execution_count": 44,
   "metadata": {},
   "outputs": [],
   "source": [
    "clean_energies.to_csv('clean_data.csv')"
   ]
  }
 ],
 "metadata": {
  "kernelspec": {
   "display_name": "Python 3",
   "language": "python",
   "name": "python3"
  },
  "language_info": {
   "codemirror_mode": {
    "name": "ipython",
    "version": 3
   },
   "file_extension": ".py",
   "mimetype": "text/x-python",
   "name": "python",
   "nbconvert_exporter": "python",
   "pygments_lexer": "ipython3",
   "version": "3.9.15"
  },
  "orig_nbformat": 4,
  "vscode": {
   "interpreter": {
    "hash": "f9f85f796d01129d0dd105a088854619f454435301f6ffec2fea96ecbd9be4ac"
   }
  }
 },
 "nbformat": 4,
 "nbformat_minor": 2
}
